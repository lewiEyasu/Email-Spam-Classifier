{
 "cells": [
  {
   "cell_type": "code",
   "execution_count": null,
   "metadata": {
    "colab": {
     "base_uri": "https://localhost:8080/",
     "height": 373
    },
    "id": "AZZklCGww_JT",
    "outputId": "8ffe05fc-5dfb-446f-bc2a-e64379cbc795"
   },
   "outputs": [],
   "source": [
    "import tensorflow as tf\n",
    "import tensorflow_hub as hub\n",
    "import tensorflow_text as text\n",
    "import numpy as np\n",
    "import re\n"
   ]
  },
  {
   "cell_type": "code",
   "execution_count": null,
   "metadata": {
    "id": "aZsqSwE1yHIU"
   },
   "outputs": [],
   "source": [
    "import pandas as pd\n",
    "\n",
    "url = \"/content/enronSpamSubset.csv\"\n",
    "\n",
    "df = pd.read_csv(url)\n",
    "\n"
   ]
  },
  {
   "cell_type": "code",
   "execution_count": null,
   "metadata": {
    "colab": {
     "base_uri": "https://localhost:8080/"
    },
    "id": "5IUc8dTkx-30",
    "outputId": "d93c5274-75b3-437f-b588-b0adb9357b76"
   },
   "outputs": [
    {
     "data": {
      "text/plain": [
       "(5000, 2)"
      ]
     },
     "execution_count": 6,
     "metadata": {},
     "output_type": "execute_result"
    }
   ],
   "source": [
    "dataset = df[['Body', 'Label']]\n",
    "dataset. dropna() \n",
    "dataset[dataset[\"Label\"] == 0].shape"
   ]
  },
  {
   "cell_type": "code",
   "execution_count": null,
   "metadata": {
    "colab": {
     "base_uri": "https://localhost:8080/"
    },
    "id": "79ztpH5tybsE",
    "outputId": "212262a6-a509-4fd7-dd13-b2a348182e7b"
   },
   "outputs": [],
   "source": [
    "dataset['Body'] = dataset['Body'].apply (lambda x: \" \".join (x.lower () for x in x.split ()))"
   ]
  },
  {
   "cell_type": "code",
   "execution_count": null,
   "metadata": {
    "colab": {
     "base_uri": "https://localhost:8080/"
    },
    "id": "3vfSdz6_Juxj",
    "outputId": "e0b100a7-44fd-4e80-9feb-536b2dd6e284"
   },
   "outputs": [],
   "source": [
    "dataset['Body'] = dataset['Body'].str.replace (r\"\"\"[^\\w\\s]+\"\"\",\"\", regex = True)\n",
    "\n",
    "dataset['Body'][1]\n",
    "\n",
    "sample_dataset = dataset"
   ]
  },
  {
   "cell_type": "code",
   "execution_count": null,
   "metadata": {
    "colab": {
     "base_uri": "https://localhost:8080/"
    },
    "id": "oPK-v_QZKjWy",
    "outputId": "ee432c92-2027-45b4-a3a8-4ca7f270cd26"
   },
   "outputs": [],
   "source": [
    "import nltk\n",
    "from nltk.corpus import stopwords\n",
    "\n",
    "\n",
    "nltk.download(\"stopwords\")\n",
    "# remove stop words\n",
    "stop = stopwords.words ('english')\n",
    "sample_dataset['Body']= sample_dataset['Body'].apply (lambda x: \" \".join (x for x in x.split () if x not in stopwords.words(\"english\")))\n",
    "sample_dataset['Body']"
   ]
  },
  {
   "cell_type": "code",
   "execution_count": null,
   "metadata": {
    "id": "VMA4lNc7TtwM"
   },
   "outputs": [],
   "source": [
    "sample_dataset.to_csv('clean_dataset.csv')"
   ]
  },
  {
   "cell_type": "code",
   "execution_count": null,
   "metadata": {
    "id": "kUHcgviYyh8b"
   },
   "outputs": [],
   "source": [
    "from sklearn.model_selection import train_test_split\n",
    "x_train,x_test,y_train,x_test = train_test_split(sample_dataset['Body'],sample_dataset['Label'],stratify=sample_dataset['Label'])\n",
    "#print(x_train.shape,y_train.shape)\n"
   ]
  },
  {
   "cell_type": "code",
   "execution_count": null,
   "metadata": {
    "id": "hXe7W1dkykqq"
   },
   "outputs": [],
   "source": [
    "bert_preprocess = hub.KerasLayer(\"https://tfhub.dev/tensorflow/bert_en_uncased_preprocess/3\")\n",
    "bert_encoder = hub.KerasLayer(\"https://tfhub.dev/tensorflow/bert_en_uncased_L-12_H-768_A-12/4\", trainable=True)"
   ]
  },
  {
   "cell_type": "code",
   "execution_count": null,
   "metadata": {
    "id": "WG-vi6N5y8Ul"
   },
   "outputs": [],
   "source": [
    "dataset_input = tf.keras.layers.Input(shape=(), dtype=tf.string, name=\"input\")\n",
    "preprocessed_text = bert_preprocess(dataset_input)\n",
    "word_embedded = bert_encoder(preprocessed_text)\n",
    "\n",
    "layer = tf.keras.layers.Dropout(0.1, name=\"dropout\")(word_embedded['pooled_output'])\n",
    "layer = tf.keras.layers.Dense(1, activation='sigmoid', name=\"output\")(layer)\n",
    "\n",
    "model = tf.keras.Model(inputs=[dataset_input], outputs = [layer])\n"
   ]
  },
  {
   "cell_type": "code",
   "execution_count": null,
   "metadata": {
    "colab": {
     "base_uri": "https://localhost:8080/"
    },
    "id": "hwRMnXXk1y_W",
    "outputId": "d384e09b-e205-4d80-fec0-0c30d2c95337"
   },
   "outputs": [
    {
     "name": "stdout",
     "output_type": "stream",
     "text": [
      "Model: \"model\"\n",
      "__________________________________________________________________________________________________\n",
      " Layer (type)                   Output Shape         Param #     Connected to                     \n",
      "==================================================================================================\n",
      " input (InputLayer)             [(None,)]            0           []                               \n",
      "                                                                                                  \n",
      " keras_layer (KerasLayer)       {'input_word_ids':   0           ['input[0][0]']                  \n",
      "                                (None, 128),                                                      \n",
      "                                 'input_type_ids':                                                \n",
      "                                (None, 128),                                                      \n",
      "                                 'input_mask': (Non                                               \n",
      "                                e, 128)}                                                          \n",
      "                                                                                                  \n",
      " keras_layer_1 (KerasLayer)     {'sequence_output':  109482241   ['keras_layer[0][0]',            \n",
      "                                 (None, 128, 768),                'keras_layer[0][1]',            \n",
      "                                 'encoder_outputs':               'keras_layer[0][2]']            \n",
      "                                 [(None, 128, 768),                                               \n",
      "                                 (None, 128, 768),                                                \n",
      "                                 (None, 128, 768),                                                \n",
      "                                 (None, 128, 768),                                                \n",
      "                                 (None, 128, 768),                                                \n",
      "                                 (None, 128, 768),                                                \n",
      "                                 (None, 128, 768),                                                \n",
      "                                 (None, 128, 768),                                                \n",
      "                                 (None, 128, 768),                                                \n",
      "                                 (None, 128, 768),                                                \n",
      "                                 (None, 128, 768),                                                \n",
      "                                 (None, 128, 768)],                                               \n",
      "                                 'default': (None,                                                \n",
      "                                768),                                                             \n",
      "                                 'pooled_output': (                                               \n",
      "                                None, 768)}                                                       \n",
      "                                                                                                  \n",
      " dropout (Dropout)              (None, 768)          0           ['keras_layer_1[0][13]']         \n",
      "                                                                                                  \n",
      " output (Dense)                 (None, 1)            769         ['dropout[0][0]']                \n",
      "                                                                                                  \n",
      "==================================================================================================\n",
      "Total params: 109,483,010\n",
      "Trainable params: 109,483,009\n",
      "Non-trainable params: 1\n",
      "__________________________________________________________________________________________________\n"
     ]
    }
   ],
   "source": [
    "model.summary()"
   ]
  },
  {
   "cell_type": "code",
   "execution_count": null,
   "metadata": {
    "id": "boVhKBWg2aU7"
   },
   "outputs": [],
   "source": [
    "METRICS = [\n",
    "      tf.keras.metrics.BinaryAccuracy(name='accuracy'),\n",
    "      tf.keras.metrics.Precision(name='precision'),\n",
    "      tf.keras.metrics.Recall(name='recall')\n",
    "]\n",
    "\n",
    "model.compile(optimizer='adam',\n",
    "              loss='binary_crossentropy',\n",
    "              metrics=METRICS)"
   ]
  },
  {
   "cell_type": "code",
   "execution_count": null,
   "metadata": {
    "colab": {
     "base_uri": "https://localhost:8080/"
    },
    "id": "HMsIAyvr2sXr",
    "outputId": "c9b0e381-1c25-4367-fbb1-7b84468a89f0"
   },
   "outputs": [
    {
     "name": "stdout",
     "output_type": "stream",
     "text": [
      "Epoch 1/50\n",
      "3/3 [==============================] - 101s 28s/step - loss: 0.7928 - accuracy: 0.4933 - precision: 0.0000e+00 - recall: 0.0000e+00\n",
      "Epoch 2/50\n",
      "3/3 [==============================] - 98s 28s/step - loss: 0.7215 - accuracy: 0.4667 - precision: 0.4706 - recall: 0.6486\n",
      "Epoch 3/50\n",
      "3/3 [==============================] - 95s 27s/step - loss: 0.7562 - accuracy: 0.5200 - precision: 0.5072 - recall: 0.9459\n",
      "Epoch 4/50\n",
      "3/3 [==============================] - 96s 28s/step - loss: 0.7228 - accuracy: 0.4933 - precision: 0.4800 - recall: 0.3243\n",
      "Epoch 5/50\n",
      "3/3 [==============================] - 101s 28s/step - loss: 0.7326 - accuracy: 0.4667 - precision: 0.4545 - recall: 0.4054\n",
      "Epoch 6/50\n",
      "3/3 [==============================] - 96s 27s/step - loss: 0.7444 - accuracy: 0.5333 - precision: 0.5139 - recall: 1.0000\n",
      "Epoch 7/50\n",
      "3/3 [==============================] - 97s 28s/step - loss: 0.7189 - accuracy: 0.5733 - precision: 0.5758 - recall: 0.5135\n",
      "Epoch 8/50\n",
      "3/3 [==============================] - 96s 28s/step - loss: 0.7588 - accuracy: 0.5067 - precision: 0.5000 - recall: 0.0270\n",
      "Epoch 9/50\n",
      "3/3 [==============================] - 97s 28s/step - loss: 0.7314 - accuracy: 0.4800 - precision: 0.4833 - recall: 0.7838\n",
      "Epoch 10/50\n",
      "3/3 [==============================] - 97s 28s/step - loss: 0.7479 - accuracy: 0.5333 - precision: 0.5147 - recall: 0.9459\n",
      "Epoch 11/50\n",
      "3/3 [==============================] - 102s 29s/step - loss: 0.7025 - accuracy: 0.5067 - precision: 0.5000 - recall: 0.1081\n",
      "Epoch 12/50\n",
      "3/3 [==============================] - 99s 29s/step - loss: 0.7300 - accuracy: 0.5333 - precision: 1.0000 - recall: 0.0541\n",
      "Epoch 13/50\n",
      "3/3 [==============================] - 96s 28s/step - loss: 0.7037 - accuracy: 0.5067 - precision: 0.5000 - recall: 0.6216\n",
      "Epoch 14/50\n",
      "3/3 [==============================] - 95s 27s/step - loss: 0.7391 - accuracy: 0.4800 - precision: 0.4853 - recall: 0.8919\n",
      "Epoch 15/50\n",
      "3/3 [==============================] - 96s 28s/step - loss: 0.7282 - accuracy: 0.4533 - precision: 0.3333 - recall: 0.1081\n",
      "Epoch 16/50\n",
      "3/3 [==============================] - 95s 27s/step - loss: 0.7131 - accuracy: 0.4933 - precision: 0.4444 - recall: 0.1081\n",
      "Epoch 17/50\n",
      "3/3 [==============================] - 102s 30s/step - loss: 0.7141 - accuracy: 0.4933 - precision: 0.4918 - recall: 0.8108\n",
      "Epoch 18/50\n",
      "3/3 [==============================] - 97s 28s/step - loss: 0.7157 - accuracy: 0.5333 - precision: 0.5167 - recall: 0.8378\n",
      "Epoch 19/50\n",
      "3/3 [==============================] - 96s 28s/step - loss: 0.6829 - accuracy: 0.5067 - precision: 0.5000 - recall: 0.3514\n",
      "Epoch 20/50\n",
      "3/3 [==============================] - 96s 27s/step - loss: 0.7132 - accuracy: 0.5467 - precision: 0.6364 - recall: 0.1892\n",
      "Epoch 21/50\n",
      "3/3 [==============================] - 95s 27s/step - loss: 0.7401 - accuracy: 0.4667 - precision: 0.4651 - recall: 0.5405\n",
      "Epoch 22/50\n",
      "3/3 [==============================] - 96s 27s/step - loss: 0.7220 - accuracy: 0.4933 - precision: 0.4918 - recall: 0.8108\n",
      "Epoch 23/50\n",
      "3/3 [==============================] - 100s 30s/step - loss: 0.7150 - accuracy: 0.5067 - precision: 0.5000 - recall: 0.6757\n",
      "Epoch 24/50\n",
      "3/3 [==============================] - 99s 28s/step - loss: 0.7051 - accuracy: 0.5067 - precision: 0.5000 - recall: 0.0541\n",
      "Epoch 25/50\n",
      "3/3 [==============================] - 96s 28s/step - loss: 0.6841 - accuracy: 0.5600 - precision: 0.5625 - recall: 0.4865\n",
      "Epoch 26/50\n",
      "3/3 [==============================] - 96s 28s/step - loss: 0.7098 - accuracy: 0.4933 - precision: 0.4930 - recall: 0.9459\n",
      "Epoch 27/50\n",
      "3/3 [==============================] - 97s 27s/step - loss: 0.7273 - accuracy: 0.4800 - precision: 0.4643 - recall: 0.3514\n",
      "Epoch 28/50\n",
      "3/3 [==============================] - 96s 28s/step - loss: 0.7556 - accuracy: 0.4267 - precision: 0.2000 - recall: 0.0541\n",
      "Epoch 29/50\n",
      "3/3 [==============================] - 96s 28s/step - loss: 0.7629 - accuracy: 0.4400 - precision: 0.4603 - recall: 0.7838\n",
      "Epoch 30/50\n",
      "3/3 [==============================] - 104s 28s/step - loss: 0.7708 - accuracy: 0.5333 - precision: 0.5139 - recall: 1.0000\n",
      "Epoch 31/50\n",
      "3/3 [==============================] - 97s 28s/step - loss: 0.7438 - accuracy: 0.4667 - precision: 0.3333 - recall: 0.0811\n",
      "Epoch 32/50\n",
      "3/3 [==============================] - 96s 28s/step - loss: 0.7051 - accuracy: 0.5467 - precision: 0.5714 - recall: 0.3243\n",
      "Epoch 33/50\n",
      "3/3 [==============================] - 96s 27s/step - loss: 0.7288 - accuracy: 0.5067 - precision: 0.5000 - recall: 0.7838\n",
      "Epoch 34/50\n",
      "3/3 [==============================] - 99s 29s/step - loss: 0.7145 - accuracy: 0.6000 - precision: 0.5660 - recall: 0.8108\n",
      "Epoch 35/50\n",
      "3/3 [==============================] - 97s 28s/step - loss: 0.7299 - accuracy: 0.4800 - precision: 0.4167 - recall: 0.1351\n",
      "Epoch 36/50\n",
      "3/3 [==============================] - 102s 31s/step - loss: 0.6922 - accuracy: 0.5067 - precision: 0.5000 - recall: 0.3243\n",
      "Epoch 37/50\n",
      "3/3 [==============================] - 96s 28s/step - loss: 0.7384 - accuracy: 0.4800 - precision: 0.4853 - recall: 0.8919\n",
      "Epoch 38/50\n",
      "3/3 [==============================] - 96s 28s/step - loss: 0.7097 - accuracy: 0.5200 - precision: 0.5455 - recall: 0.1622\n",
      "Epoch 39/50\n",
      "3/3 [==============================] - 97s 28s/step - loss: 0.7317 - accuracy: 0.4933 - precision: 0.4762 - recall: 0.2703\n",
      "Epoch 40/50\n",
      "3/3 [==============================] - 96s 28s/step - loss: 0.7361 - accuracy: 0.4667 - precision: 0.4769 - recall: 0.8378\n",
      "Epoch 41/50\n",
      "3/3 [==============================] - 96s 28s/step - loss: 0.7325 - accuracy: 0.4267 - precision: 0.4167 - recall: 0.4054\n",
      "Epoch 42/50\n",
      "3/3 [==============================] - 101s 30s/step - loss: 0.6984 - accuracy: 0.4800 - precision: 0.4688 - recall: 0.4054\n",
      "Epoch 43/50\n",
      "3/3 [==============================] - 97s 27s/step - loss: 0.7073 - accuracy: 0.4533 - precision: 0.4333 - recall: 0.3514\n",
      "Epoch 44/50\n",
      "3/3 [==============================] - 96s 27s/step - loss: 0.7176 - accuracy: 0.4533 - precision: 0.4000 - recall: 0.2162\n",
      "Epoch 45/50\n",
      "3/3 [==============================] - 97s 28s/step - loss: 0.7341 - accuracy: 0.4533 - precision: 0.4583 - recall: 0.5946\n",
      "Epoch 46/50\n",
      "3/3 [==============================] - 96s 28s/step - loss: 0.7084 - accuracy: 0.5067 - precision: 0.5000 - recall: 0.9189\n",
      "Epoch 47/50\n",
      "3/3 [==============================] - 96s 28s/step - loss: 0.6971 - accuracy: 0.4933 - precision: 0.4667 - recall: 0.1892\n",
      "Epoch 48/50\n",
      "3/3 [==============================] - 99s 29s/step - loss: 0.7183 - accuracy: 0.4667 - precision: 0.4118 - recall: 0.1892\n",
      "Epoch 49/50\n"
     ]
    }
   ],
   "source": [
    "model.fit(x_train,y_train, epochs=50)"
   ]
  },
  {
   "cell_type": "code",
   "execution_count": null,
   "metadata": {
    "id": "-PkPoIqy3ATq"
   },
   "outputs": [],
   "source": [
    "!mkdir -p saved_model\n",
    "model.save('saved_model/my_model')\n"
   ]
  },
  {
   "cell_type": "code",
   "execution_count": null,
   "metadata": {
    "id": "mSa4XwmH3Esm"
   },
   "outputs": [],
   "source": [
    "new_model = tf.keras.models.load_model('saved_model/my_model')"
   ]
  },
  {
   "cell_type": "code",
   "execution_count": null,
   "metadata": {
    "id": "PL3TJj5s5c8K"
   },
   "outputs": [],
   "source": [
    "dataset_input = tf.keras.layers.Input(shape=(), dtype=tf.string, name=\"input\")\n",
    "preprocessed_text = bert_preprocess(x_train)\n",
    "word_embedded = bert_encoder(preprocessed_text)\n"
   ]
  }
 ],
 "metadata": {
  "colab": {
   "collapsed_sections": [],
   "name": "Untitled0.ipynb",
   "provenance": []
  },
  "gpuClass": "standard",
  "kernelspec": {
   "display_name": "Python 3",
   "language": "python",
   "name": "python3"
  },
  "language_info": {
   "codemirror_mode": {
    "name": "ipython",
    "version": 3
   },
   "file_extension": ".py",
   "mimetype": "text/x-python",
   "name": "python",
   "nbconvert_exporter": "python",
   "pygments_lexer": "ipython3",
   "version": "3.8.10"
  }
 },
 "nbformat": 4,
 "nbformat_minor": 4
}
